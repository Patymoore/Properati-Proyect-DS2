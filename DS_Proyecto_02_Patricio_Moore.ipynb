{
  "nbformat": 4,
  "nbformat_minor": 0,
  "metadata": {
    "colab": {
      "name": "DS_Proyecto_02 Patricio Moore.ipynb",
      "provenance": [],
      "collapsed_sections": []
    },
    "kernelspec": {
      "display_name": "Python 3",
      "language": "python",
      "name": "python3"
    },
    "language_info": {
      "codemirror_mode": {
        "name": "ipython",
        "version": 3
      },
      "file_extension": ".py",
      "mimetype": "text/x-python",
      "name": "python",
      "nbconvert_exporter": "python",
      "pygments_lexer": "ipython3",
      "version": "3.7.6"
    },
    "accelerator": "GPU"
  },
  "cells": [
    {
      "cell_type": "markdown",
      "metadata": {
        "id": "edWnZ6IZztim"
      },
      "source": [
        ""
      ]
    },
    {
      "cell_type": "markdown",
      "metadata": {
        "id": "H-Ym5taDzti5"
      },
      "source": [
        "# ------------------------------\n",
        "\n",
        "# Proyecto 2"
      ]
    },
    {
      "cell_type": "markdown",
      "metadata": {
        "id": "Sjq0PWbkzti5"
      },
      "source": [
        "#### Parte A\n",
        "\n",
        "Transformación de Datos\n",
        "\n",
        "Elige cuáles de las siguientes tareas son apropiadas para su dataset. Implementa las transformaciones que elegiste. Es importante que justifiques por qué las haces:\n",
        "\n",
        "Detección y eliminación de Outliers\n",
        "\n",
        "Encoding\n",
        "\n",
        "Imputación de valores faltantes\n",
        "\n",
        "Escalado de datos\n",
        "\n",
        "Generación de nuevas variables predictoras/reducción de dimensionalidad (SVD/PCA).\n",
        "\n",
        "Vuelve a entrenar el modelo implementado en la Entrega 01 - en particular, el árbol de decisión - con este nuevo dataset transformado . Evalúa su desempeño a partir del dataset obtenido luego de transformar los datos. ¿Hay una mejora en su desempeño? Compara con el desempeño obtenido en el proyecto 01. Sea cual sea la respuesta, intenta explicar a qué se debe."
      ]
    },
    {
      "cell_type": "code",
      "metadata": {
        "id": "ypktvVw9zti5"
      },
      "source": [
        "\n",
        "import pandas as pd\n",
        "import numpy as np\n",
        "import seaborn as sns\n",
        "import matplotlib.pyplot as plt\n",
        "from sklearn.model_selection import train_test_split\n",
        "\n",
        "\n",
        "#Vamos a eliminar las instancias con valores faltantes, y tambien realizar una mascara donde la superficie total sea mayor o igual que la superficie cubierta.\n",
        "\n",
        "properatif1 = pd.read_csv('/content/drive/MyDrive/Curso Data Science/Proyectos/2/DS_Proyecto_01_Datos_Properati.csv')\n",
        "properatif2a =  properatif1[(properatif1.surface_total>=properatif1.surface_covered)]\n",
        "properatif2 = properatif2a.dropna()\n",
        "\n",
        "properati2 = properatif2[(properatif2.property_type==\"Departamento\") | (properatif2.property_type==\"PH\") | (properatif2.property_type==\"Casa\") ]\n"
      ],
      "execution_count": 2,
      "outputs": []
    },
    {
      "cell_type": "code",
      "metadata": {
        "id": "TCADI3lsfmds"
      },
      "source": [
        "# from google.colab import drive\n",
        "# drive.mount('/content/drive') "
      ],
      "execution_count": 3,
      "outputs": []
    },
    {
      "cell_type": "markdown",
      "metadata": {
        "id": "D8wU0CjDzti5"
      },
      "source": [
        "Comenzaremos con la deteccion y eliminacion de outliers. Los campos que pueden tener outliers que nos perjudiquen posteriormente en el entrenamiento de los modelos son el precio, la superficie cubierta y la superficie total. Comenzaremos con esta ultima. Para detectar los outliers, realizaremos la regla de los rangos interquartilicos para cada tipo de propiedad.\n"
      ]
    },
    {
      "cell_type": "code",
      "metadata": {
        "colab": {
          "base_uri": "https://localhost:8080/",
          "height": 312
        },
        "id": "fO6oJ6gYzti5",
        "outputId": "d62fb4bf-0e19-4ecb-f453-f59f45acdbfc"
      },
      "source": [
        "#Este grafico nos muestra la cantidad de outliers que posee el dataset antes de comenzar el pre-procesamiento de datos\n",
        "sns.boxplot(data = properati2, x = 'property_type', y = \"surface_total\")\n",
        "\n",
        "plt.title('Distribucion de metros cuadrados por tipo de propiedad')\n",
        "\n",
        "\n",
        "plt.xlabel('Tipo de propiedad')\n",
        "plt.ylabel('m2')\n"
      ],
      "execution_count": 4,
      "outputs": [
        {
          "output_type": "execute_result",
          "data": {
            "text/plain": [
              "Text(0, 0.5, 'm2')"
            ]
          },
          "metadata": {
            "tags": []
          },
          "execution_count": 4
        },
        {
          "output_type": "display_data",
          "data": {
            "image/png": "[encoded data removed]",
            "text/plain": [
              "<Figure size 432x288 with 1 Axes>"
            ]
          },
          "metadata": {
            "tags": [],
            "needs_background": "light"
          }
        }
      ]
    },
    {
      "cell_type": "code",
      "metadata": {
        "id": "pnyaPemFzti5"
      },
      "source": [
        "depa =  properati2[(properati2.property_type==\"Departamento\")]\n",
        "casa = properati2[(properati2.property_type==\"Casa\")]\n",
        "ph =  properati2[(properati2.property_type==\"PH\")]"
      ],
      "execution_count": 5,
      "outputs": []
    },
    {
      "cell_type": "code",
      "metadata": {
        "id": "TmLY2FwTzti6"
      },
      "source": [
        "#Comenzamos con los departamenos\n",
        "\n",
        "q25depst,q75depst = np.percentile(depa.surface_total.values, [25,75])\n",
        "iqrdepst = q75depst - q25depst\n",
        "minimodepst = q25depst - 1.5*iqrdepst\n",
        "maximodepst = q75depst + 1.5*iqrdepst\n",
        "properati_depa_st = depa[(depa.surface_total > minimodepst) & (depa.surface_total < maximodepst)]\n",
        "\n",
        "q25depp,q75depp = np.percentile(properati_depa_st.price.values, [25,75])\n",
        "iqrdepp = q75depp - q25depp\n",
        "minimodepp = q25depp - 1.5*iqrdepp\n",
        "maximodepp = q75depp + 1.5*iqrdepp\n",
        "properati_depa_pr = properati_depa_st[(properati_depa_st.price > minimodepp) & (properati_depa_st.price < maximodepp)]\n",
        "\n",
        "q25depsc,q75depsc = np.percentile(properati_depa_pr.surface_covered.values, [25,75])\n",
        "iqrdepsc = q75depsc - q25depsc\n",
        "minimodepsc = q25depsc - 1.5*iqrdepsc\n",
        "maximodepsc = q75depsc + 1.5*iqrdepsc\n",
        "properati_depa_sc = properati_depa_pr[(properati_depa_pr.surface_covered > minimodepsc) & (properati_depa_pr.surface_covered < maximodepsc)]\n",
        "\n"
      ],
      "execution_count": 6,
      "outputs": []
    },
    {
      "cell_type": "code",
      "metadata": {
        "id": "xwdNruz8zti6"
      },
      "source": [
        "#seguimos por las casas\n",
        "\n",
        "q25casast,q75casast = np.percentile(casa.surface_total.values, [25,75])\n",
        "iqrcasast = q75casast - q25casast\n",
        "minimocasast = q25casast - 1.5*iqrcasast\n",
        "maximocasast = q75casast + 1.5*iqrcasast\n",
        "properati_casa_st = casa[(casa.surface_total > minimocasast) & (casa.surface_total < maximocasast)]\n",
        "\n",
        "q25casap,q75casap = np.percentile(properati_casa_st.price.values, [25,75])\n",
        "iqrcasap = q75casap - q25casap\n",
        "minimocasap = q25casap - 1.5*iqrcasap\n",
        "maximocasap = q75casap + 1.5*iqrcasap\n",
        "properati_casa_pr = properati_casa_st[(properati_casa_st.price > minimocasap) & (properati_casa_st.price < maximocasap)]\n",
        "\n",
        "q25casasc,q75casasc = np.percentile(properati_casa_pr.surface_covered.values, [25,75])\n",
        "iqrcasasc = q75casasc - q25casasc\n",
        "minimocasasc = q25casasc - 1.5*iqrcasasc\n",
        "maximocasasc = q75casasc + 1.5*iqrcasasc\n",
        "properati_casa_sc = properati_casa_pr[(properati_casa_pr.surface_covered > minimocasasc) & (properati_casa_pr.surface_covered < maximocasasc)]\n",
        "\n"
      ],
      "execution_count": 7,
      "outputs": []
    },
    {
      "cell_type": "code",
      "metadata": {
        "id": "8X7IShkjzti6"
      },
      "source": [
        "#Y finalmente terminamos con los PH\n",
        "\n",
        "q25phst,q75phst = np.percentile(ph.surface_total.values, [25,75])\n",
        "iqrphst = q75phst - q25phst\n",
        "minimophst = q25phst - 1.5*iqrphst\n",
        "maximophst = q75phst + 1.5*iqrphst\n",
        "properati_ph_st = ph[(ph.surface_total > minimophst) & (ph.surface_total < maximophst)]\n",
        "\n",
        "q25php,q75php = np.percentile(properati_ph_st.price.values, [25,75])\n",
        "iqrphp = q75php - q25php\n",
        "minimophp = q25php - 1.5*iqrphp\n",
        "maximophp = q75php + 1.5*iqrphp\n",
        "properati_ph_pr = properati_ph_st[(properati_ph_st.price > minimophp) & (properati_ph_st.price < maximophp)]\n",
        "\n",
        "q25phsc,q75phsc = np.percentile(properati_ph_pr.surface_covered.values, [25,75])\n",
        "iqrphsc = q75phsc - q25phsc\n",
        "minimophsc = q25phsc - 1.5*iqrphsc\n",
        "maximophsc = q75phsc + 1.5*iqrphsc\n",
        "properati_ph_sc = properati_ph_pr[(properati_ph_pr.surface_covered > minimophsc) & (properati_ph_pr.surface_covered < maximophsc)]\n",
        "\n"
      ],
      "execution_count": 8,
      "outputs": []
    },
    {
      "cell_type": "markdown",
      "metadata": {
        "id": "P4P7QL56zti6"
      },
      "source": [
        "Ahora, anexamos los distintos datasets ya pre-procesados para visualizar los resultados"
      ]
    },
    {
      "cell_type": "code",
      "metadata": {
        "id": "tp6_13H9zti6"
      },
      "source": [
        "properati_anexado = pd.concat([properati_ph_sc ,properati_casa_sc , properati_depa_sc])"
      ],
      "execution_count": 9,
      "outputs": []
    },
    {
      "cell_type": "code",
      "metadata": {
        "colab": {
          "base_uri": "https://localhost:8080/",
          "height": 312
        },
        "id": "iLFC6S2hzti6",
        "outputId": "73cdc49a-3fe3-4e19-d42f-4b952e79a533"
      },
      "source": [
        "sns.boxplot(data = properati_anexado, x = 'property_type', y = \"surface_total\")\n",
        "\n",
        "plt.title('Distribucion de metros cuadrados por tipo de propiedad')\n",
        "\n",
        "plt.xlabel('Tipo de propiedad')\n",
        "plt.ylabel('m2 totales')\n"
      ],
      "execution_count": 10,
      "outputs": [
        {
          "output_type": "execute_result",
          "data": {
            "text/plain": [
              "Text(0, 0.5, 'm2 totales')"
            ]
          },
          "metadata": {
            "tags": []
          },
          "execution_count": 10
        },
        {
          "output_type": "display_data",
          "data": {
            "image/png": "[encoded data removed]",
            "text/plain": [
              "<Figure size 432x288 with 1 Axes>"
            ]
          },
          "metadata": {
            "tags": [],
            "needs_background": "light"
          }
        }
      ]
    },
    {
      "cell_type": "code",
      "metadata": {
        "colab": {
          "base_uri": "https://localhost:8080/",
          "height": 312
        },
        "id": "luQHT16uzti6",
        "outputId": "bb81b74d-a28c-4283-881f-404e2d24c493"
      },
      "source": [
        "sns.boxplot(data = properati_anexado, x = 'property_type', y = \"surface_covered\")\n",
        "\n",
        "plt.title('Distribucion de metros cuadrados por tipo de propiedad')\n",
        "\n",
        "plt.ylim(0,700)\n",
        "plt.xlabel('Tipo de propiedad')\n",
        "plt.ylabel('m2 cubiertos')"
      ],
      "execution_count": 11,
      "outputs": [
        {
          "output_type": "execute_result",
          "data": {
            "text/plain": [
              "Text(0, 0.5, 'm2 cubiertos')"
            ]
          },
          "metadata": {
            "tags": []
          },
          "execution_count": 11
        },
        {
          "output_type": "display_data",
          "data": {
            "image/png": "[encoded data removed]",
            "text/plain": [
              "<Figure size 432x288 with 1 Axes>"
            ]
          },
          "metadata": {
            "tags": [],
            "needs_background": "light"
          }
        }
      ]
    },
    {
      "cell_type": "code",
      "metadata": {
        "colab": {
          "base_uri": "https://localhost:8080/",
          "height": 312
        },
        "id": "sjPVhBpAzti7",
        "outputId": "726b9482-9386-4688-d10f-6060f8f21b2d"
      },
      "source": [
        "sns.boxplot(data = properati_anexado, x = 'property_type', y = \"price\")\n",
        "\n",
        "plt.title('Distribucion de metros cuadrados por tipo de propiedad')\n",
        "\n",
        "plt.xlabel('Tipo de propiedad')\n",
        "plt.ylabel('Precio')"
      ],
      "execution_count": 12,
      "outputs": [
        {
          "output_type": "execute_result",
          "data": {
            "text/plain": [
              "Text(0, 0.5, 'Precio')"
            ]
          },
          "metadata": {
            "tags": []
          },
          "execution_count": 12
        },
        {
          "output_type": "display_data",
          "data": {
            "image/png": "[encoded data removed]",
            "text/plain": [
              "<Figure size 432x288 with 1 Axes>"
            ]
          },
          "metadata": {
            "tags": [],
            "needs_background": "light"
          }
        }
      ]
    },
    {
      "cell_type": "markdown",
      "metadata": {
        "id": "02z8QTH2zti7"
      },
      "source": [
        "Debido a que seguimos viendo algunos outliers, vamos a proceder por eliminar este restante aplicandole un filtro sobre un valor fijo, y luego visualizaremos nuevamente los graficos"
      ]
    },
    {
      "cell_type": "code",
      "metadata": {
        "id": "816BBvfJzti7"
      },
      "source": [
        "properati_anexado1 = properati_anexado[(properati_anexado.surface_covered < 300)]\n",
        "properati_anexado2 = properati_anexado1[(properati_anexado1.price < 400000)]\n",
        "\n",
        "properati_anexado_f = properati_anexado2[(properati_anexado2.surface_total < 600)]\n"
      ],
      "execution_count": 13,
      "outputs": []
    },
    {
      "cell_type": "code",
      "metadata": {
        "colab": {
          "base_uri": "https://localhost:8080/",
          "height": 312
        },
        "id": "nPkEN0LRzti7",
        "outputId": "46f94752-d4fd-4956-fb17-69bd0ad13dd1"
      },
      "source": [
        "sns.boxplot(data = properati_anexado_f, x = 'property_type', y = \"surface_total\")\n",
        "\n",
        "plt.title('Distribucion de metros cuadrados por tipo de propiedad')\n",
        "\n",
        "plt.xlabel('Tipo de propiedad')\n",
        "plt.ylabel('m2 totales')\n"
      ],
      "execution_count": 14,
      "outputs": [
        {
          "output_type": "execute_result",
          "data": {
            "text/plain": [
              "Text(0, 0.5, 'm2 totales')"
            ]
          },
          "metadata": {
            "tags": []
          },
          "execution_count": 14
        },
        {
          "output_type": "display_data",
          "data": {
            "image/png": "[encoded data removed]",
            "text/plain": [
              "<Figure size 432x288 with 1 Axes>"
            ]
          },
          "metadata": {
            "tags": [],
            "needs_background": "light"
          }
        }
      ]
    },
    {
      "cell_type": "code",
      "metadata": {
        "colab": {
          "base_uri": "https://localhost:8080/",
          "height": 312
        },
        "id": "pTbgBAumzti7",
        "outputId": "e69c0a54-a5d2-4920-bbf7-f8e9605eab4d"
      },
      "source": [
        "sns.boxplot(data = properati_anexado_f, x = 'property_type', y = \"surface_covered\")\n",
        "\n",
        "plt.title('Distribucion de metros cuadrados por tipo de propiedad')\n",
        "\n",
        "plt.xlabel('Tipo de propiedad')\n",
        "plt.ylabel('m2 cubiertas')\n"
      ],
      "execution_count": 15,
      "outputs": [
        {
          "output_type": "execute_result",
          "data": {
            "text/plain": [
              "Text(0, 0.5, 'm2 cubiertas')"
            ]
          },
          "metadata": {
            "tags": []
          },
          "execution_count": 15
        },
        {
          "output_type": "display_data",
          "data": {
            "image/png": "[encoded data removed]",
            "text/plain": [
              "<Figure size 432x288 with 1 Axes>"
            ]
          },
          "metadata": {
            "tags": [],
            "needs_background": "light"
          }
        }
      ]
    },
    {
      "cell_type": "code",
      "metadata": {
        "colab": {
          "base_uri": "https://localhost:8080/",
          "height": 312
        },
        "id": "MSVHwoDHzti8",
        "outputId": "06b16f7a-8bd6-45e7-f1a8-c985c181570d"
      },
      "source": [
        "sns.boxplot(data = properati_anexado_f, x = 'property_type', y = \"price\")\n",
        "\n",
        "plt.title('Distribucion de metros cuadrados por tipo de propiedad')\n",
        "\n",
        "plt.xlabel('Tipo de propiedad')\n",
        "plt.ylabel('m2 cubiertas')\n"
      ],
      "execution_count": 16,
      "outputs": [
        {
          "output_type": "execute_result",
          "data": {
            "text/plain": [
              "Text(0, 0.5, 'm2 cubiertas')"
            ]
          },
          "metadata": {
            "tags": []
          },
          "execution_count": 16
        },
        {
          "output_type": "display_data",
          "data": {
            "image/png": "[encoded data removed]",
            "text/plain": [
              "<Figure size 432x288 with 1 Axes>"
            ]
          },
          "metadata": {
            "tags": [],
            "needs_background": "light"
          }
        }
      ]
    },
    {
      "cell_type": "markdown",
      "metadata": {
        "id": "l1Fqr7Z7zti8"
      },
      "source": [
        "Ya tenemos nuestro dataset sin outliers, por lo tanto ya podemos empezar a entrenar nuestros modelos con mejores datos."
      ]
    },
    {
      "cell_type": "markdown",
      "metadata": {
        "id": "ewJorDi3zti8"
      },
      "source": [
        "Ahora realizaremos un encoding a los tipos de propiedades, para tenerlas como variables numericas. Vamos a realizar un encoding llamada \"dummy encoding\". Luego, anexamos el resultado y lo agregamos a nuestro dataset."
      ]
    },
    {
      "cell_type": "code",
      "metadata": {
        "id": "AA9EMt9hzti8"
      },
      "source": [
        "properati_dummys = pd.get_dummies(properati_anexado_f.property_type)\n",
        "\n",
        "properati_anexado = pd.concat([properati_anexado_f,properati_dummys], axis=1)\n"
      ],
      "execution_count": 17,
      "outputs": []
    },
    {
      "cell_type": "markdown",
      "metadata": {
        "id": "bk9bqzkMzti8"
      },
      "source": [
        "Por ultimo, vamos a realizar un escalado de datos."
      ]
    },
    {
      "cell_type": "code",
      "metadata": {
        "id": "0wK-_72Jzti8"
      },
      "source": [
        "from sklearn.preprocessing import StandardScaler\n",
        "\n",
        "\n",
        "\n",
        "X2 = properati_anexado[['bathrooms','surface_covered','surface_total']]\n",
        "y = properati_anexado.price\n",
        "\n",
        "columnas = ['bathrooms','surface_covered','surface_total']\n",
        "\n",
        "for col in columnas:\n",
        "    scl = StandardScaler()\n",
        "    X2 = scl.fit_transform(X2)"
      ],
      "execution_count": 18,
      "outputs": []
    },
    {
      "cell_type": "markdown",
      "metadata": {
        "id": "JftT-ZHyzti9"
      },
      "source": [
        "Ya podemos hacer un train/test split, y evaluar nuestro dataset para poder compararlo con los resultados de nuestro modelo anterior."
      ]
    },
    {
      "cell_type": "code",
      "metadata": {
        "id": "paMs_hiLzti9"
      },
      "source": [
        "from sklearn.metrics import r2_score\n",
        "from sklearn.model_selection import train_test_split\n",
        "from sklearn.tree import DecisionTreeRegressor\n",
        "\n",
        "X_train, X_test, y_train, y_test = train_test_split(X2, y, test_size=0.30, random_state=42)\n",
        "\n"
      ],
      "execution_count": 19,
      "outputs": []
    },
    {
      "cell_type": "code",
      "metadata": {
        "id": "MpyNekv8zti9"
      },
      "source": [
        "lista_r2_train_tree = []\n",
        "lista_r2_test_tree = []\n",
        "\n",
        "m_depth = [1,2,3,4,5,6,7,8,9,10,12,13]\n",
        "\n",
        "# Generamos un loop sobre los distintos valores de m\n",
        "for m in m_depth:\n",
        "    \n",
        "    # Vamos a repetir el siguiente bloque de código\n",
        "    \n",
        "    # Definir el modelo con el valor de max_depth deseado\n",
        "    prop_tree = DecisionTreeRegressor(max_depth=m, random_state = 42)\n",
        "    \n",
        "    \n",
        "    # Entrenar el modelo\n",
        "    prop_tree.fit(X_train, y_train)\n",
        "    \n",
        "    # Predecimos el set de entrenamiento y de testeo\n",
        "    y_train_pred_tree = prop_tree.predict(X_train)\n",
        "    y_test_pred_tree = prop_tree.predict(X_test)\n",
        "    \n",
        "    # Evaluamos el set de entrenamiento y de testeo\n",
        "    r2_train_tree = r2_score(y_train, y_train_pred_tree)\n",
        "    r2_test_tree = r2_score(y_test, y_test_pred_tree)\n",
        "    \n",
        "    # Agregar la información a las listas\n",
        "    lista_r2_train_tree.append(r2_train_tree)\n",
        "    lista_r2_test_tree.append(r2_test_tree)\n",
        "\n"
      ],
      "execution_count": 20,
      "outputs": []
    },
    {
      "cell_type": "code",
      "metadata": {
        "colab": {
          "base_uri": "https://localhost:8080/",
          "height": 296
        },
        "id": "0HkO2075zti9",
        "outputId": "daa16a0f-0121-4b44-e585-0bfaaaaab115"
      },
      "source": [
        "plt.plot(m_depth, lista_r2_train_tree,'o-',label='train')\n",
        "plt.plot(m_depth, lista_r2_test_tree,'o-',label='test')\n",
        "plt.legend()\n",
        "plt.xlabel('Max depth')\n",
        "plt.ylabel('R2')"
      ],
      "execution_count": 21,
      "outputs": [
        {
          "output_type": "execute_result",
          "data": {
            "text/plain": [
              "Text(0, 0.5, 'R2')"
            ]
          },
          "metadata": {
            "tags": []
          },
          "execution_count": 21
        },
        {
          "output_type": "display_data",
          "data": {
            "image/png": "[encoded data removed]",
            "text/plain": [
              "<Figure size 432x288 with 1 Axes>"
            ]
          },
          "metadata": {
            "tags": [],
            "needs_background": "light"
          }
        }
      ]
    },
    {
      "cell_type": "markdown",
      "metadata": {
        "id": "Fx1YdfvAzti9"
      },
      "source": [
        "En nuestro anterior modelo de arbol de decision, el mejor R2 se obtenia cuando la profundidad del arbol era igual a 12, con un R2 de 0.76. Aqui nuestro R2 mas alto es de 0.51 con la misma profundidad, por lo tanto nuestro modelo anterior sigue siendo mejor. Esto es debido a que\r\n"
      ]
    },
    {
      "cell_type": "markdown",
      "metadata": {
        "id": "DD0sfJPDzti9"
      },
      "source": [
        "#### PARTE B - Modelos Avanzados\n",
        "\n",
        "1.Elige dos de los modelos avanzados vistos Compara con el desempeño obtenido en el proyecto 01 (en el caso de regresión, considera una regresión lineal con atributos polinómicos y regularización). Entrénalos y evalúalos con sus argumentos por defecto. No te olvides de hacer un train/test split y usar Validación Cruzada.\n",
        "\n",
        "2.Optimiza sus hiperparámetros mediante Validación Cruzada y Grid Search o Random Search.\n",
        "\n",
        "3.Compara el desempeño de los nuevos modelos entre sí y con el modelo de la Parte A. ¿Cuál elegirías? Justifica."
      ]
    },
    {
      "cell_type": "markdown",
      "metadata": {
        "id": "Scm_V0Njzti9"
      },
      "source": [
        "#### Vamos a comenzar con un modelo de Regresion polinomica, al cual le haremos una regularizacion."
      ]
    },
    {
      "cell_type": "code",
      "metadata": {
        "id": "h3iczJCCzti-",
        "colab": {
          "base_uri": "https://localhost:8080/"
        },
        "outputId": "9548f48d-8f9e-47df-c091-435129904b3e"
      },
      "source": [
        "from sklearn.preprocessing import PolynomialFeatures\n",
        "from sklearn.linear_model import LinearRegression\n",
        "from sklearn.metrics import mean_squared_error\n",
        "\n",
        "poly = PolynomialFeatures(7, include_bias=False)\n",
        "X_train_new = poly.fit_transform(X_train)\n",
        "X_test_new = poly.fit_transform(X_test)\n",
        "print(X_train_new.shape, X_test_new.shape)\n",
        "\n",
        "reg_2 = LinearRegression()\n",
        "reg_2.fit(X_train_new, y_train)\n",
        "y_train_pred_2 = reg_2.predict(X_train_new)\n",
        "y_test_pred_2 = reg_2.predict(X_test_new)\n",
        "\n",
        "\n",
        "    # Evaluamos el set de entrenamiento y de testeo\n",
        "r2_train_lr = r2_score(y_train, y_train_pred_2)\n",
        "r2_test_lr = r2_score(y_test, y_test_pred_2)\n",
        "    \n",
        "print(r2_train_lr)\n",
        "print(r2_test_lr)"
      ],
      "execution_count": 22,
      "outputs": [
        {
          "output_type": "stream",
          "text": [
            "(64974, 119) (27846, 119)\n",
            "0.4906999882199976\n",
            "-1.6508559610599955\n"
          ],
          "name": "stdout"
        }
      ]
    },
    {
      "cell_type": "markdown",
      "metadata": {
        "id": "7XQ_MzuLj46n"
      },
      "source": [
        "#####Nota para el corrector: El R2 cuadrado de testeo, me da un numero que no tiene sentido. Tambien noto que los R2 resultantes de mi nuevo dataset, son muy bajos comparados con el del proyecto 1. ¿Hay algo que estoy haciendo mal en el pre-procesamiento de datos?\r\n"
      ]
    },
    {
      "cell_type": "markdown",
      "metadata": {
        "id": "G9QCu1QXzti-"
      },
      "source": [
        "#### El segundo modelo elegido sera un random forest"
      ]
    },
    {
      "cell_type": "code",
      "metadata": {
        "id": "u4MsVBqWzti-",
        "colab": {
          "base_uri": "https://localhost:8080/"
        },
        "outputId": "127f783b-0cb2-4d36-bb6b-8262278eb4a1"
      },
      "source": [
        "%%time\n",
        "from sklearn.ensemble import RandomForestRegressor\n",
        "import scipy as sp\n",
        "from sklearn.model_selection import GridSearchCV\n",
        "\n",
        "\n",
        "param_random_tree = {'max_depth':np.arange(1, 4),\n",
        "              'criterion': ['mse'], \n",
        "              'min_samples_split':np.arange(2,5),\n",
        "              'min_samples_leaf':np.arange(1,4)}\n",
        "\n",
        "random_forest = RandomForestRegressor()\n",
        "random_forest.fit(X_train, y_train)\n",
        "\n",
        "\n",
        "forest_grid = GridSearchCV(random_forest, param_grid=param_random_tree, cv=5, n_jobs=15, return_train_score=True )\n",
        "forest_grid.fit(X_train, y_train)"
      ],
      "execution_count": 29,
      "outputs": [
        {
          "output_type": "stream",
          "text": [
            "CPU times: user 7.41 s, sys: 316 ms, total: 7.73 s\n",
            "Wall time: 2min 15s\n"
          ],
          "name": "stdout"
        }
      ]
    },
    {
      "cell_type": "code",
      "metadata": {
        "id": "diOejsydzti_",
        "colab": {
          "base_uri": "https://localhost:8080/"
        },
        "outputId": "9b6c81f8-8ae0-4546-9285-8f66e3a2350d"
      },
      "source": [
        "print(\"Mejores parametros: \"+str(forest_grid.best_params_))\n",
        "print(\"Mejor Score: \"+str(forest_grid.best_score_)+'\\n')"
      ],
      "execution_count": 24,
      "outputs": [
        {
          "output_type": "stream",
          "text": [
            "Mejores parametros: {'criterion': 'mse', 'max_depth': 3, 'min_samples_leaf': 3, 'min_samples_split': 2}\n",
            "Mejor Score: 0.4420916331976887\n",
            "\n"
          ],
          "name": "stdout"
        }
      ]
    },
    {
      "cell_type": "markdown",
      "metadata": {
        "id": "DHfBAywPkTeU"
      },
      "source": [
        "Los R2 de mis modelos avanzados son muy bajos, mientras que mi arbol de decision del punto A tiene un mayor R2. Por este punto que menciono, entiendo que mi mejor modelo sigue siendo el arbol de decision."
      ]
    },
    {
      "cell_type": "markdown",
      "metadata": {
        "id": "oQ68Vk9SknLY"
      },
      "source": [
        "##PARTE C - Interpretación de modelos\r\n",
        "\r\n",
        "De acuerdo a lo que el modelo permite, responde algunas o todas las siguientes preguntas:\r\n",
        "\r\n",
        "¿Qué variables fueron relevantes para el modelo para hacer una predicción? ¿Cuáles no? Si usaste una regresión lineal con regularización, presta atención a los parámetros (pendientes) obtenidas. Si usaste un modelo de ensamble en árboles, además de ver la importancia de cada atributo, también elige algunos árboles al azar y observa qué atributos considera importantes. ¿En qué se diferencian esos árboles? ¿Por qué? Finalmente, responde, ¿coincide con lo que esperabas a partir de tu experiencia con este dataset?\r\n",
        "\r\n",
        "\r\n",
        "¿Cómo es la distribución de errores (regresión) o qué clases se confunden entre sí (clasificación)? ¿Dónde falla? ¿A qué se debe?\r\n",
        "\r\n",
        "**Interpretación**"
      ]
    },
    {
      "cell_type": "code",
      "metadata": {
        "colab": {
          "base_uri": "https://localhost:8080/",
          "height": 538
        },
        "id": "UvghEfH3MhAl",
        "outputId": "dd4ef44a-59f7-427c-fde7-c6e35fddba9c"
      },
      "source": [
        "#Vamos a ver cual fue la variable mas importante\r\n",
        "importances = random_forest.feature_importances_\r\n",
        "columns = np.array(columnas)\r\n",
        "indices = np.argsort(importances)[::-1]\r\n",
        "\r\n",
        "plt.figure(figsize = (15,8))\r\n",
        "sns.barplot(columns[indices], importances[indices])\r\n",
        "plt.show()"
      ],
      "execution_count": 31,
      "outputs": [
        {
          "output_type": "stream",
          "text": [
            "/usr/local/lib/python3.6/dist-packages/seaborn/_decorators.py:43: FutureWarning: Pass the following variables as keyword args: x, y. From version 0.12, the only valid positional argument will be `data`, and passing other arguments without an explicit keyword will result in an error or misinterpretation.\n",
            "  FutureWarning\n"
          ],
          "name": "stderr"
        },
        {
          "output_type": "display_data",
          "data": {
            "image/png": "[encoded data removed]",
            "text/plain": [
              "<Figure size 1080x576 with 1 Axes>"
            ]
          },
          "metadata": {
            "tags": [],
            "needs_background": "light"
          }
        }
      ]
    },
    {
      "cell_type": "markdown",
      "metadata": {
        "id": "dux-3jHiVhn4"
      },
      "source": [
        "Vemos que la variable mas importante fue la superficie cubierta, mientras que la cantidad de baños fue la que menos peso tuvo a la hora de entrenar nuestros modelos."
      ]
    },
    {
      "cell_type": "markdown",
      "metadata": {
        "id": "kwnb6GwLPyA1"
      },
      "source": [
        "**Errores**\r\n",
        "\r\n",
        "Como pudimos observar en los modelos avanzados implementados. Tenemos un R2 de 0.49 en la regresion logistica, mientras que en el mejor arbol de nuestro random forest, el R2 es de 0.44. \r\n",
        "Nuestro mayor error entonces esta en el Random Forest, dado a que nuestro R2 es menor que en la regresion logistica. Esto se puede debe a la optimizacion de los hiperparametros que se aplico en el Random Forest."
      ]
    },
    {
      "cell_type": "markdown",
      "metadata": {
        "id": "7SO2VMCoJ2pz"
      },
      "source": [
        "\r\n",
        "**Metodología**\r\n",
        "\r\n",
        "Los resultados de este segundo proyecto no superaron a los del primero. Aun haciendo un pre-procesamiento de datos, el R2 de todos mis nuevos modelos es inferior al mejor R2 del proyecto 1. Utilice la eliminacion de outliers, encoders y normalizacion de los datos, mientras que mi metrica para visualizar el error fue el R2. \r\n",
        "\r\n",
        "Mejoraria el rendimiento de mis modelos, ya que es bastante bajo. Creo que en el pre-procesamiento de datos, hay pasos en los cuales no estoy haciendo un correcto procedemiento y esto deriva en el rendimiento de mi modelo final."
      ]
    }
  ]
}